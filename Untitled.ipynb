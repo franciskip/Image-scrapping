{
 "cells": [
  {
   "cell_type": "code",
   "execution_count": 1,
   "metadata": {},
   "outputs": [],
   "source": [
    "import pandas as pd"
   ]
  },
  {
   "cell_type": "code",
   "execution_count": 2,
   "metadata": {},
   "outputs": [],
   "source": [
    "df = pd.read_excel('combined_file.xlsx')"
   ]
  },
  {
   "cell_type": "code",
   "execution_count": 3,
   "metadata": {},
   "outputs": [
    {
     "data": {
      "text/plain": [
       "(270163, 7)"
      ]
     },
     "execution_count": 3,
     "metadata": {},
     "output_type": "execute_result"
    }
   ],
   "source": [
    "df.shape"
   ]
  },
  {
   "cell_type": "code",
   "execution_count": 4,
   "metadata": {},
   "outputs": [
    {
     "data": {
      "text/html": [
       "<div>\n",
       "<style scoped>\n",
       "    .dataframe tbody tr th:only-of-type {\n",
       "        vertical-align: middle;\n",
       "    }\n",
       "\n",
       "    .dataframe tbody tr th {\n",
       "        vertical-align: top;\n",
       "    }\n",
       "\n",
       "    .dataframe thead th {\n",
       "        text-align: right;\n",
       "    }\n",
       "</style>\n",
       "<table border=\"1\" class=\"dataframe\">\n",
       "  <thead>\n",
       "    <tr style=\"text-align: right;\">\n",
       "      <th></th>\n",
       "      <th>Unnamed: 0</th>\n",
       "      <th>id</th>\n",
       "      <th>width</th>\n",
       "      <th>height</th>\n",
       "      <th>url</th>\n",
       "      <th>photographer</th>\n",
       "      <th>original_url</th>\n",
       "    </tr>\n",
       "  </thead>\n",
       "  <tbody>\n",
       "    <tr>\n",
       "      <th>0</th>\n",
       "      <td>0</td>\n",
       "      <td>937481</td>\n",
       "      <td>7361.0</td>\n",
       "      <td>4910.0</td>\n",
       "      <td>https://www.pexels.com/photo/man-wearing-black...</td>\n",
       "      <td>mentatdgt</td>\n",
       "      <td>https://images.pexels.com/photos/937481/pexels...</td>\n",
       "    </tr>\n",
       "    <tr>\n",
       "      <th>1</th>\n",
       "      <td>1</td>\n",
       "      <td>1125028</td>\n",
       "      <td>7647.0</td>\n",
       "      <td>5101.0</td>\n",
       "      <td>https://www.pexels.com/photo/man-wearing-red-c...</td>\n",
       "      <td>mentatdgt</td>\n",
       "      <td>https://images.pexels.com/photos/1125028/pexel...</td>\n",
       "    </tr>\n",
       "    <tr>\n",
       "      <th>2</th>\n",
       "      <td>2</td>\n",
       "      <td>1339536</td>\n",
       "      <td>4928.0</td>\n",
       "      <td>3280.0</td>\n",
       "      <td>https://www.pexels.com/photo/man-in-white-crew...</td>\n",
       "      <td>Ba Phi</td>\n",
       "      <td>https://images.pexels.com/photos/1339536/pexel...</td>\n",
       "    </tr>\n",
       "    <tr>\n",
       "      <th>3</th>\n",
       "      <td>3</td>\n",
       "      <td>1220757</td>\n",
       "      <td>5304.0</td>\n",
       "      <td>5304.0</td>\n",
       "      <td>https://www.pexels.com/photo/man-holding-black...</td>\n",
       "      <td>mentatdgt</td>\n",
       "      <td>https://images.pexels.com/photos/1220757/pexel...</td>\n",
       "    </tr>\n",
       "    <tr>\n",
       "      <th>4</th>\n",
       "      <td>4</td>\n",
       "      <td>450214</td>\n",
       "      <td>4240.0</td>\n",
       "      <td>2832.0</td>\n",
       "      <td>https://www.pexels.com/photo/man-leaning-on-wa...</td>\n",
       "      <td>Royal Anwar</td>\n",
       "      <td>https://images.pexels.com/photos/450214/pexels...</td>\n",
       "    </tr>\n",
       "  </tbody>\n",
       "</table>\n",
       "</div>"
      ],
      "text/plain": [
       "   Unnamed: 0       id   width  height  \\\n",
       "0           0   937481  7361.0  4910.0   \n",
       "1           1  1125028  7647.0  5101.0   \n",
       "2           2  1339536  4928.0  3280.0   \n",
       "3           3  1220757  5304.0  5304.0   \n",
       "4           4   450214  4240.0  2832.0   \n",
       "\n",
       "                                                 url photographer  \\\n",
       "0  https://www.pexels.com/photo/man-wearing-black...    mentatdgt   \n",
       "1  https://www.pexels.com/photo/man-wearing-red-c...    mentatdgt   \n",
       "2  https://www.pexels.com/photo/man-in-white-crew...       Ba Phi   \n",
       "3  https://www.pexels.com/photo/man-holding-black...    mentatdgt   \n",
       "4  https://www.pexels.com/photo/man-leaning-on-wa...  Royal Anwar   \n",
       "\n",
       "                                        original_url  \n",
       "0  https://images.pexels.com/photos/937481/pexels...  \n",
       "1  https://images.pexels.com/photos/1125028/pexel...  \n",
       "2  https://images.pexels.com/photos/1339536/pexel...  \n",
       "3  https://images.pexels.com/photos/1220757/pexel...  \n",
       "4  https://images.pexels.com/photos/450214/pexels...  "
      ]
     },
     "execution_count": 4,
     "metadata": {},
     "output_type": "execute_result"
    }
   ],
   "source": [
    "df.head()"
   ]
  },
  {
   "cell_type": "code",
   "execution_count": 5,
   "metadata": {},
   "outputs": [],
   "source": [
    "df.drop_duplicates(inplace=True)"
   ]
  },
  {
   "cell_type": "code",
   "execution_count": 6,
   "metadata": {},
   "outputs": [],
   "source": [
    "df.drop(columns=df.columns[0],axis=1,inplace=True)"
   ]
  },
  {
   "cell_type": "code",
   "execution_count": 7,
   "metadata": {},
   "outputs": [
    {
     "data": {
      "text/plain": [
       "(270109, 6)"
      ]
     },
     "execution_count": 7,
     "metadata": {},
     "output_type": "execute_result"
    }
   ],
   "source": [
    "df.shape"
   ]
  },
  {
   "cell_type": "code",
   "execution_count": 8,
   "metadata": {},
   "outputs": [],
   "source": [
    "df.drop_duplicates(inplace=True)"
   ]
  },
  {
   "cell_type": "code",
   "execution_count": 9,
   "metadata": {},
   "outputs": [
    {
     "data": {
      "text/plain": [
       "(126292, 6)"
      ]
     },
     "execution_count": 9,
     "metadata": {},
     "output_type": "execute_result"
    }
   ],
   "source": [
    "df.shape"
   ]
  },
  {
   "cell_type": "code",
   "execution_count": 10,
   "metadata": {},
   "outputs": [
    {
     "data": {
      "text/html": [
       "<div>\n",
       "<style scoped>\n",
       "    .dataframe tbody tr th:only-of-type {\n",
       "        vertical-align: middle;\n",
       "    }\n",
       "\n",
       "    .dataframe tbody tr th {\n",
       "        vertical-align: top;\n",
       "    }\n",
       "\n",
       "    .dataframe thead th {\n",
       "        text-align: right;\n",
       "    }\n",
       "</style>\n",
       "<table border=\"1\" class=\"dataframe\">\n",
       "  <thead>\n",
       "    <tr style=\"text-align: right;\">\n",
       "      <th></th>\n",
       "      <th>id</th>\n",
       "      <th>width</th>\n",
       "      <th>height</th>\n",
       "      <th>url</th>\n",
       "      <th>photographer</th>\n",
       "      <th>original_url</th>\n",
       "    </tr>\n",
       "  </thead>\n",
       "  <tbody>\n",
       "    <tr>\n",
       "      <th>0</th>\n",
       "      <td>937481</td>\n",
       "      <td>7361.0</td>\n",
       "      <td>4910.0</td>\n",
       "      <td>https://www.pexels.com/photo/man-wearing-black...</td>\n",
       "      <td>mentatdgt</td>\n",
       "      <td>https://images.pexels.com/photos/937481/pexels...</td>\n",
       "    </tr>\n",
       "    <tr>\n",
       "      <th>1</th>\n",
       "      <td>1125028</td>\n",
       "      <td>7647.0</td>\n",
       "      <td>5101.0</td>\n",
       "      <td>https://www.pexels.com/photo/man-wearing-red-c...</td>\n",
       "      <td>mentatdgt</td>\n",
       "      <td>https://images.pexels.com/photos/1125028/pexel...</td>\n",
       "    </tr>\n",
       "    <tr>\n",
       "      <th>2</th>\n",
       "      <td>1339536</td>\n",
       "      <td>4928.0</td>\n",
       "      <td>3280.0</td>\n",
       "      <td>https://www.pexels.com/photo/man-in-white-crew...</td>\n",
       "      <td>Ba Phi</td>\n",
       "      <td>https://images.pexels.com/photos/1339536/pexel...</td>\n",
       "    </tr>\n",
       "    <tr>\n",
       "      <th>3</th>\n",
       "      <td>1220757</td>\n",
       "      <td>5304.0</td>\n",
       "      <td>5304.0</td>\n",
       "      <td>https://www.pexels.com/photo/man-holding-black...</td>\n",
       "      <td>mentatdgt</td>\n",
       "      <td>https://images.pexels.com/photos/1220757/pexel...</td>\n",
       "    </tr>\n",
       "    <tr>\n",
       "      <th>4</th>\n",
       "      <td>450214</td>\n",
       "      <td>4240.0</td>\n",
       "      <td>2832.0</td>\n",
       "      <td>https://www.pexels.com/photo/man-leaning-on-wa...</td>\n",
       "      <td>Royal Anwar</td>\n",
       "      <td>https://images.pexels.com/photos/450214/pexels...</td>\n",
       "    </tr>\n",
       "  </tbody>\n",
       "</table>\n",
       "</div>"
      ],
      "text/plain": [
       "        id   width  height                                                url  \\\n",
       "0   937481  7361.0  4910.0  https://www.pexels.com/photo/man-wearing-black...   \n",
       "1  1125028  7647.0  5101.0  https://www.pexels.com/photo/man-wearing-red-c...   \n",
       "2  1339536  4928.0  3280.0  https://www.pexels.com/photo/man-in-white-crew...   \n",
       "3  1220757  5304.0  5304.0  https://www.pexels.com/photo/man-holding-black...   \n",
       "4   450214  4240.0  2832.0  https://www.pexels.com/photo/man-leaning-on-wa...   \n",
       "\n",
       "  photographer                                       original_url  \n",
       "0    mentatdgt  https://images.pexels.com/photos/937481/pexels...  \n",
       "1    mentatdgt  https://images.pexels.com/photos/1125028/pexel...  \n",
       "2       Ba Phi  https://images.pexels.com/photos/1339536/pexel...  \n",
       "3    mentatdgt  https://images.pexels.com/photos/1220757/pexel...  \n",
       "4  Royal Anwar  https://images.pexels.com/photos/450214/pexels...  "
      ]
     },
     "execution_count": 10,
     "metadata": {},
     "output_type": "execute_result"
    }
   ],
   "source": [
    "df.head()"
   ]
  },
  {
   "cell_type": "code",
   "execution_count": 11,
   "metadata": {},
   "outputs": [
    {
     "name": "stderr",
     "output_type": "stream",
     "text": [
      "<ipython-input-11-0026ce2938d3>:1: FutureWarning: Use of **kwargs is deprecated, use engine_kwargs instead.\n",
      "  writer = pd.ExcelWriter(r'clean.xlsx', engine='xlsxwriter',options={'strings_to_urls': False})\n"
     ]
    }
   ],
   "source": [
    "writer = pd.ExcelWriter(r'clean.xlsx', engine='xlsxwriter',options={'strings_to_urls': False})\n",
    "df.to_excel(writer)\n",
    "writer.close()"
   ]
  },
  {
   "cell_type": "code",
   "execution_count": null,
   "metadata": {},
   "outputs": [],
   "source": []
  }
 ],
 "metadata": {
  "kernelspec": {
   "display_name": "Python 3",
   "language": "python",
   "name": "python3"
  },
  "language_info": {
   "codemirror_mode": {
    "name": "ipython",
    "version": 3
   },
   "file_extension": ".py",
   "mimetype": "text/x-python",
   "name": "python",
   "nbconvert_exporter": "python",
   "pygments_lexer": "ipython3",
   "version": "3.8.5"
  }
 },
 "nbformat": 4,
 "nbformat_minor": 4
}
